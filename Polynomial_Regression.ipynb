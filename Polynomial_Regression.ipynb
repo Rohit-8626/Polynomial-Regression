{
 "cells": [
  {
   "cell_type": "markdown",
   "id": "95a07f0c-66c6-4f19-ae33-8a9d13606cf0",
   "metadata": {},
   "source": [
    "### Importing Essential Libraries"
   ]
  },
  {
   "cell_type": "code",
   "execution_count": 28,
   "id": "41d0bcea-6cf9-4e2a-8608-d8db73ea781b",
   "metadata": {},
   "outputs": [],
   "source": [
    "# Importing the Essential Libraries for Polynomial Regression\n",
    "import pandas as pd\n",
    "import numpy as np\n",
    "import matplotlib.pyplot as plt"
   ]
  },
  {
   "cell_type": "markdown",
   "id": "fe8c0268-360b-4464-ae43-d6c930011ead",
   "metadata": {},
   "source": [
    "### Importing Dataset"
   ]
  },
  {
   "cell_type": "code",
   "execution_count": 29,
   "id": "962b528b-07c5-40af-82fa-6c88aae4c28e",
   "metadata": {},
   "outputs": [],
   "source": [
    "# Loading the Dataset\n",
    "data = pd.read_csv('Employee_Salary2.csv')"
   ]
  },
  {
   "cell_type": "markdown",
   "id": "e092818e-b431-45fa-a4f9-46cae3f7abbf",
   "metadata": {},
   "source": [
    "### Understand the dataset"
   ]
  },
  {
   "cell_type": "code",
   "execution_count": 30,
   "id": "c080d90b-63a2-4c68-b3e4-bb29e8f45081",
   "metadata": {},
   "outputs": [
    {
     "data": {
      "text/html": [
       "<div>\n",
       "<style scoped>\n",
       "    .dataframe tbody tr th:only-of-type {\n",
       "        vertical-align: middle;\n",
       "    }\n",
       "\n",
       "    .dataframe tbody tr th {\n",
       "        vertical-align: top;\n",
       "    }\n",
       "\n",
       "    .dataframe thead th {\n",
       "        text-align: right;\n",
       "    }\n",
       "</style>\n",
       "<table border=\"1\" class=\"dataframe\">\n",
       "  <thead>\n",
       "    <tr style=\"text-align: right;\">\n",
       "      <th></th>\n",
       "      <th>Years of Experience</th>\n",
       "      <th>Salary</th>\n",
       "    </tr>\n",
       "  </thead>\n",
       "  <tbody>\n",
       "    <tr>\n",
       "      <th>0</th>\n",
       "      <td>1.000000</td>\n",
       "      <td>40000.00000</td>\n",
       "    </tr>\n",
       "    <tr>\n",
       "      <th>1</th>\n",
       "      <td>2.257942</td>\n",
       "      <td>65979.42119</td>\n",
       "    </tr>\n",
       "    <tr>\n",
       "      <th>2</th>\n",
       "      <td>2.450875</td>\n",
       "      <td>67253.57549</td>\n",
       "    </tr>\n",
       "    <tr>\n",
       "      <th>3</th>\n",
       "      <td>2.498713</td>\n",
       "      <td>67342.43510</td>\n",
       "    </tr>\n",
       "    <tr>\n",
       "      <th>4</th>\n",
       "      <td>2.613729</td>\n",
       "      <td>70532.20448</td>\n",
       "    </tr>\n",
       "  </tbody>\n",
       "</table>\n",
       "</div>"
      ],
      "text/plain": [
       "   Years of Experience       Salary\n",
       "0             1.000000  40000.00000\n",
       "1             2.257942  65979.42119\n",
       "2             2.450875  67253.57549\n",
       "3             2.498713  67342.43510\n",
       "4             2.613729  70532.20448"
      ]
     },
     "execution_count": 30,
     "metadata": {},
     "output_type": "execute_result"
    }
   ],
   "source": [
    "# Check the first 5 rows of data for understanding\n",
    "data.head()"
   ]
  },
  {
   "cell_type": "code",
   "execution_count": 31,
   "id": "ecb4045d-2791-4f91-901e-b4cad64dc5d8",
   "metadata": {},
   "outputs": [],
   "source": [
    "# Changing the Column names for ease of access\n",
    "data.columns = ['years' , 'salary']"
   ]
  },
  {
   "cell_type": "markdown",
   "id": "6f8ac5df-761c-4e1f-bf4e-2371984a6db3",
   "metadata": {},
   "source": [
    "### Handling Null Values"
   ]
  },
  {
   "cell_type": "code",
   "execution_count": 32,
   "id": "0fadf589-0ec4-4e18-b11a-e78caa8c2584",
   "metadata": {},
   "outputs": [
    {
     "data": {
      "text/plain": [
       "years     0\n",
       "salary    0\n",
       "dtype: int64"
      ]
     },
     "execution_count": 32,
     "metadata": {},
     "output_type": "execute_result"
    }
   ],
   "source": [
    "# Check the null values is present in the dataset\n",
    "# if the null values is present than we fill with the mean or median\n",
    "data.isnull().sum()"
   ]
  },
  {
   "cell_type": "markdown",
   "id": "a9723b76-2a15-4507-8644-bd1e93724846",
   "metadata": {},
   "source": [
    "### Analyze Correlation"
   ]
  },
  {
   "cell_type": "code",
   "execution_count": 33,
   "id": "c51b6564-89d7-4ebd-a5f2-686e688a497c",
   "metadata": {},
   "outputs": [
    {
     "data": {
      "text/html": [
       "<div>\n",
       "<style scoped>\n",
       "    .dataframe tbody tr th:only-of-type {\n",
       "        vertical-align: middle;\n",
       "    }\n",
       "\n",
       "    .dataframe tbody tr th {\n",
       "        vertical-align: top;\n",
       "    }\n",
       "\n",
       "    .dataframe thead th {\n",
       "        text-align: right;\n",
       "    }\n",
       "</style>\n",
       "<table border=\"1\" class=\"dataframe\">\n",
       "  <thead>\n",
       "    <tr style=\"text-align: right;\">\n",
       "      <th></th>\n",
       "      <th>years</th>\n",
       "      <th>salary</th>\n",
       "    </tr>\n",
       "  </thead>\n",
       "  <tbody>\n",
       "    <tr>\n",
       "      <th>years</th>\n",
       "      <td>1.000000</td>\n",
       "      <td>0.772432</td>\n",
       "    </tr>\n",
       "    <tr>\n",
       "      <th>salary</th>\n",
       "      <td>0.772432</td>\n",
       "      <td>1.000000</td>\n",
       "    </tr>\n",
       "  </tbody>\n",
       "</table>\n",
       "</div>"
      ],
      "text/plain": [
       "           years    salary\n",
       "years   1.000000  0.772432\n",
       "salary  0.772432  1.000000"
      ]
     },
     "execution_count": 33,
     "metadata": {},
     "output_type": "execute_result"
    }
   ],
   "source": [
    "# Analyze the correlation between the years of exeperience and salary\n",
    "# if the correlation is significant than we perform the regression analysis\n",
    "data.corr()"
   ]
  },
  {
   "cell_type": "markdown",
   "id": "ad99c893-c84b-4136-86af-a91282fc9cd5",
   "metadata": {},
   "source": [
    "### Visulise the dataset"
   ]
  },
  {
   "cell_type": "code",
   "execution_count": 34,
   "id": "6f1c6af9-629a-4e4f-abf5-ef890b96db2a",
   "metadata": {},
   "outputs": [
    {
     "data": {
      "image/png": "[encoded data removed]",
      "text/plain": [
       "<Figure size 640x480 with 1 Axes>"
      ]
     },
     "metadata": {},
     "output_type": "display_data"
    }
   ],
   "source": [
    "# After Checking the Correlation we check the relation is linear or non-linear\n",
    "# If the Relationship is the Linear than we use the LinearRegression other wise we use the PolynomialRegression\n",
    "plt.scatter(data['years'] , data['salary'])\n",
    "plt.show()"
   ]
  },
  {
   "cell_type": "markdown",
   "id": "90c13671-9a2a-4e26-85f5-f4b5c66eb30f",
   "metadata": {},
   "source": [
    "### Transform the Feature into the Polynomial Form "
   ]
  },
  {
   "cell_type": "code",
   "execution_count": 35,
   "id": "398f3022-2d50-4c8d-adef-570149b62a6b",
   "metadata": {},
   "outputs": [],
   "source": [
    "# We Split the Data into the feature and target variable\n",
    "X = data[['years']]\n",
    "y = data['salary']"
   ]
  },
  {
   "cell_type": "code",
   "execution_count": 9,
   "id": "08cbe91e-e9e8-4356-a6de-409cfb9cd762",
   "metadata": {},
   "outputs": [],
   "source": [
    "# for perform the Polynomial Regression we transform our features into the polynomial form\n",
    "from sklearn.preprocessing import PolynomialFeatures # importing the polynomialfeature class for transform the feature into the polynomial form\n",
    "pf = PolynomialFeatures(degree = 2) # create the instnce of polynomial feature of degree 2 because our data looks like the quadratic form\n",
    "X_poly = pf.fit_transform(X) "
   ]
  },
  {
   "cell_type": "markdown",
   "id": "30bf9853-19d9-452f-9b46-197d8c9baaa4",
   "metadata": {},
   "source": [
    "### Split data into Trainnig and Testing Set"
   ]
  },
  {
   "cell_type": "code",
   "execution_count": 36,
   "id": "2b9df7c4-05fc-4e19-be8a-1b1090e5170d",
   "metadata": {},
   "outputs": [],
   "source": [
    "# Splitting the Data into the Trainning and the Testting set\n",
    "from sklearn.model_selection import train_test_split\n",
    "X_train , X_test , y_train , y_test = train_test_split(X_poly , y , test_size=0.2 , random_state=42)"
   ]
  },
  {
   "cell_type": "markdown",
   "id": "9c5a3def-bbb0-4419-aa3a-b482707437a3",
   "metadata": {},
   "source": [
    "### Train the Model"
   ]
  },
  {
   "cell_type": "code",
   "execution_count": 37,
   "id": "9e282121-2b55-4128-8b76-f49f29a0f60b",
   "metadata": {},
   "outputs": [
    {
     "data": {
      "text/html": [
       "<style>#sk-container-id-2 {color: black;}#sk-container-id-2 pre{padding: 0;}#sk-container-id-2 div.sk-toggleable {background-color: white;}#sk-container-id-2 label.sk-toggleable__label {cursor: pointer;display: block;width: 100%;margin-bottom: 0;padding: 0.3em;box-sizing: border-box;text-align: center;}#sk-container-id-2 label.sk-toggleable__label-arrow:before {content: \"▸\";float: left;margin-right: 0.25em;color: #696969;}#sk-container-id-2 label.sk-toggleable__label-arrow:hover:before {color: black;}#sk-container-id-2 div.sk-estimator:hover label.sk-toggleable__label-arrow:before {color: black;}#sk-container-id-2 div.sk-toggleable__content {max-height: 0;max-width: 0;overflow: hidden;text-align: left;background-color: #f0f8ff;}#sk-container-id-2 div.sk-toggleable__content pre {margin: 0.2em;color: black;border-radius: 0.25em;background-color: #f0f8ff;}#sk-container-id-2 input.sk-toggleable__control:checked~div.sk-toggleable__content {max-height: 200px;max-width: 100%;overflow: auto;}#sk-container-id-2 input.sk-toggleable__control:checked~label.sk-toggleable__label-arrow:before {content: \"▾\";}#sk-container-id-2 div.sk-estimator input.sk-toggleable__control:checked~label.sk-toggleable__label {background-color: #d4ebff;}#sk-container-id-2 div.sk-label input.sk-toggleable__control:checked~label.sk-toggleable__label {background-color: #d4ebff;}#sk-container-id-2 input.sk-hidden--visually {border: 0;clip: rect(1px 1px 1px 1px);clip: rect(1px, 1px, 1px, 1px);height: 1px;margin: -1px;overflow: hidden;padding: 0;position: absolute;width: 1px;}#sk-container-id-2 div.sk-estimator {font-family: monospace;background-color: #f0f8ff;border: 1px dotted black;border-radius: 0.25em;box-sizing: border-box;margin-bottom: 0.5em;}#sk-container-id-2 div.sk-estimator:hover {background-color: #d4ebff;}#sk-container-id-2 div.sk-parallel-item::after {content: \"\";width: 100%;border-bottom: 1px solid gray;flex-grow: 1;}#sk-container-id-2 div.sk-label:hover label.sk-toggleable__label {background-color: #d4ebff;}#sk-container-id-2 div.sk-serial::before {content: \"\";position: absolute;border-left: 1px solid gray;box-sizing: border-box;top: 0;bottom: 0;left: 50%;z-index: 0;}#sk-container-id-2 div.sk-serial {display: flex;flex-direction: column;align-items: center;background-color: white;padding-right: 0.2em;padding-left: 0.2em;position: relative;}#sk-container-id-2 div.sk-item {position: relative;z-index: 1;}#sk-container-id-2 div.sk-parallel {display: flex;align-items: stretch;justify-content: center;background-color: white;position: relative;}#sk-container-id-2 div.sk-item::before, #sk-container-id-2 div.sk-parallel-item::before {content: \"\";position: absolute;border-left: 1px solid gray;box-sizing: border-box;top: 0;bottom: 0;left: 50%;z-index: -1;}#sk-container-id-2 div.sk-parallel-item {display: flex;flex-direction: column;z-index: 1;position: relative;background-color: white;}#sk-container-id-2 div.sk-parallel-item:first-child::after {align-self: flex-end;width: 50%;}#sk-container-id-2 div.sk-parallel-item:last-child::after {align-self: flex-start;width: 50%;}#sk-container-id-2 div.sk-parallel-item:only-child::after {width: 0;}#sk-container-id-2 div.sk-dashed-wrapped {border: 1px dashed gray;margin: 0 0.4em 0.5em 0.4em;box-sizing: border-box;padding-bottom: 0.4em;background-color: white;}#sk-container-id-2 div.sk-label label {font-family: monospace;font-weight: bold;display: inline-block;line-height: 1.2em;}#sk-container-id-2 div.sk-label-container {text-align: center;}#sk-container-id-2 div.sk-container {/* jupyter's `normalize.less` sets `[hidden] { display: none; }` but bootstrap.min.css set `[hidden] { display: none !important; }` so we also need the `!important` here to be able to override the default hidden behavior on the sphinx rendered scikit-learn.org. See: https://github.com/scikit-learn/scikit-learn/issues/21755 */display: inline-block !important;position: relative;}#sk-container-id-2 div.sk-text-repr-fallback {display: none;}</style><div id=\"sk-container-id-2\" class=\"sk-top-container\"><div class=\"sk-text-repr-fallback\"><pre>LinearRegression()</pre><b>In a Jupyter environment, please rerun this cell to show the HTML representation or trust the notebook. <br />On GitHub, the HTML representation is unable to render, please try loading this page with nbviewer.org.</b></div><div class=\"sk-container\" hidden><div class=\"sk-item\"><div class=\"sk-estimator sk-toggleable\"><input class=\"sk-toggleable__control sk-hidden--visually\" id=\"sk-estimator-id-2\" type=\"checkbox\" checked><label for=\"sk-estimator-id-2\" class=\"sk-toggleable__label sk-toggleable__label-arrow\">LinearRegression</label><div class=\"sk-toggleable__content\"><pre>LinearRegression()</pre></div></div></div></div></div>"
      ],
      "text/plain": [
       "LinearRegression()"
      ]
     },
     "execution_count": 37,
     "metadata": {},
     "output_type": "execute_result"
    }
   ],
   "source": [
    "# IMporting and Train the Polynomial model \n",
    "from sklearn.linear_model import LinearRegression\n",
    "lr = LinearRegression()\n",
    "lr.fit(X_train , y_train)"
   ]
  },
  {
   "cell_type": "markdown",
   "id": "ebe6dcfe-0ff3-4def-8a1e-4a1766c48603",
   "metadata": {},
   "source": [
    "### Checking Coefficent , Intercept & Model Accuracy"
   ]
  },
  {
   "cell_type": "code",
   "execution_count": 38,
   "id": "54df2634-a700-4495-b3bd-55ac6d72eac6",
   "metadata": {},
   "outputs": [
    {
     "name": "stdout",
     "output_type": "stream",
     "text": [
      "The Coefficents is :  [     0.         -32653.27391759   2084.28020328]\n",
      "The Line Intercept is :  203558.85587900912\n",
      "The Polynomial Regression model Accurecy is :  94.8682476557746 %\n"
     ]
    }
   ],
   "source": [
    "# Checkig the line coefficent , intercept and model accuracy\n",
    "print(\"The Coefficents is : \",lr.coef_)\n",
    "print(\"The Line Intercept is : \",lr.intercept_)\n",
    "print(\"The Polynomial Regression model Accurecy is : \",lr.score(X_test , y_test)*100,\"%\")"
   ]
  },
  {
   "cell_type": "markdown",
   "id": "91de730b-72be-44bb-8b7e-45e6ed72d7cf",
   "metadata": {},
   "source": [
    "### Visulise Actual data & Predicted Line"
   ]
  },
  {
   "cell_type": "code",
   "execution_count": 39,
   "id": "48821b79-cfdd-4abf-b6fe-a1e73e51b5d8",
   "metadata": {},
   "outputs": [
    {
     "data": {
      "image/png": "[encoded data removed]",
      "text/plain": [
       "<Figure size 640x480 with 1 Axes>"
      ]
     },
     "metadata": {},
     "output_type": "display_data"
    }
   ],
   "source": [
    "# Visulize the real data and the predicted line\n",
    "y_pre = lr.predict(X_poly)\n",
    "plt.scatter(data['years'] , data['salary'] , c='skyblue')\n",
    "plt.plot(data['years'] , y_pre , c='black')\n",
    "plt.show()"
   ]
  },
  {
   "cell_type": "code",
   "execution_count": null,
   "id": "e9643b92-5a54-479c-878c-cab33dd40d8d",
   "metadata": {},
   "outputs": [],
   "source": []
  }
 ],
 "metadata": {
  "kernelspec": {
   "display_name": "Python 3 (ipykernel)",
   "language": "python",
   "name": "python3"
  },
  "language_info": {
   "codemirror_mode": {
    "name": "ipython",
    "version": 3
   },
   "file_extension": ".py",
   "mimetype": "text/x-python",
   "name": "python",
   "nbconvert_exporter": "python",
   "pygments_lexer": "ipython3",
   "version": "3.11.5"
  }
 },
 "nbformat": 4,
 "nbformat_minor": 5
}
